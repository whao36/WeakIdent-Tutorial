{
  "nbformat": 4,
  "nbformat_minor": 0,
  "metadata": {
    "colab": {
      "provenance": []
    },
    "kernelspec": {
      "name": "python3",
      "display_name": "Python 3"
    },
    "language_info": {
      "name": "python"
    }
  },
  "cells": [
    {
      "cell_type": "code",
      "execution_count": null,
      "metadata": {
        "id": "Wn7hf2aDu2yi"
      },
      "outputs": [],
      "source": [
        "'''\n",
        "Title: computing convolution via moving window in comparison to computing\n",
        "convolution using componentwise products in the Fourier domain\n",
        "\n",
        "Author: Wenbo Hao\n",
        "\n",
        "Introduction: this is an experimental verification of the convolution theorem\n",
        "and a demonstration of how to compute convolution in the Fourier domain. The\n",
        "Jupyter notebook also answer the question in WeakIdent Tutorial Part I that why\n",
        "we cut the 2m_x grids at the right boundary but not m_x grids at each boundary.\n",
        "This is because when we do the convolution using the Fourier methods, the values\n",
        "is going to move leftward by m_x\n",
        "\n",
        "'''\n",
        "\n",
        "import numpy as np"
      ]
    },
    {
      "cell_type": "code",
      "source": [
        "# Convolution using the classical method\n",
        "\n",
        "signal = np.array([1, 2, 3, 4, 5, 6, 7, 8, 9]) # presents the original dta U\n",
        "kernel = np.array([1, 5, 3, 0.5, 2]) # represents the test function discrete value,\n",
        "# where the window size represents 2*m_x + 1 (length of the test function's\n",
        "# integral domain)\n",
        "\n",
        "# Here Nx = 9 and mx = 2\n",
        "\n",
        "# Computing convolution directly\n",
        "conv_result = np.convolve(signal, kernel, mode='same')\n",
        "print(\"Direct Convolution:\", conv_result)"
      ],
      "metadata": {
        "colab": {
          "base_uri": "https://localhost:8080/"
        },
        "id": "IFFM2sIrwGUA",
        "outputId": "c60b0177-28f9-41a7-8f2e-44c871eec884"
      },
      "execution_count": null,
      "outputs": [
        {
          "output_type": "stream",
          "name": "stdout",
          "text": [
            "Direct Convolution: [16.  25.5 37.  48.5 60.  71.5 83.  84.5 45. ]\n"
          ]
        }
      ]
    },
    {
      "cell_type": "code",
      "source": [
        "# Convolution using the Fourier method\n",
        "\n",
        "# Perform left zero padding in order for fft_signal to have the same length as\n",
        "# fft_kernel (kernel should have same length as fft_kernel)\n",
        "kernel = np.array([1, 5, 3, 0.5, 2, 0, 0, 0, 0])\n",
        "\n",
        "fft_signal = np.fft.fft(signal)\n",
        "fft_kernel = np.fft.fft(kernel)\n",
        "print(\"fft_signal:\", np.real(fft_signal))\n",
        "print(\"fft_kernel:\", np.real(fft_kernel))\n",
        "\n",
        "# Performing componentwise product\n",
        "fft_result = np.fft.ifft(fft_signal * fft_kernel)\n",
        "print(\"FFT-based Convolution:\", np.real(fft_result))"
      ],
      "metadata": {
        "colab": {
          "base_uri": "https://localhost:8080/"
        },
        "id": "RNo6F-Ulx2jj",
        "outputId": "c334ead5-1314-4ed3-f7fd-481108adc48c"
      },
      "execution_count": null,
      "outputs": [
        {
          "output_type": "stream",
          "name": "stdout",
          "text": [
            "fft_signal: [45.  -4.5 -4.5 -4.5 -4.5 -4.5 -4.5 -4.5 -4.5]\n",
            "fft_kernel: [11.5         3.22178151  0.33125191 -3.5        -1.30303342 -1.30303342\n",
            " -3.5         0.33125191  3.22178151]\n",
            "FFT-based Convolution: [85.5 52.  36.5 43.5 37.  48.5 60.  71.5 83. ]\n"
          ]
        }
      ]
    }
  ]
}
